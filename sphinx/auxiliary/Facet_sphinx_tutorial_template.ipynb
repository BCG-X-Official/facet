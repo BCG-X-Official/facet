{
 "cells": [
  {
   "cell_type": "markdown",
   "metadata": {},
   "source": [
    "**INSTRUCTIONS**:\n",
    "\n",
    "This template is for maintaining a consistent structure to FACET tutorials integrated into the FACET sphinx documentation. Please observe the following:\n",
    "1. In the cells below italics provide instructions/guidance on what is needed and can be deleted prior to finalizing the notebook\n",
    "2. Please retain the cell below which incorporates the FACET logo into the Sphinx documentation.\n",
    "3. When referring to FACET please use all capitals.\n",
    "4. Please ensure that coding style follows PEP8 and keywords are used for clarity.\n",
    "5. Finally, this cell can be deleted once the tutorial has been drafted."
   ]
  },
  {
   "cell_type": "raw",
   "metadata": {
    "raw_mimetype": "text/html"
   },
   "source": [
    "<img src=\"../_images/Gamma_Facet_Logo_RGB_LB.svg\" width=\"500\" style=\"padding-bottom: 70px; padding-top: 70px; margin: auto; display: block\">"
   ]
  },
  {
   "cell_type": "markdown",
   "metadata": {},
   "source": [
    "# *Name of tutorial* with FACET\n",
    "\n",
    "FACET is composed of the following key components:\n",
    "\n",
    "- **Model Inspection**\n",
    "\n",
    "    FACET introduces a new algorithm to quantify dependencies and interactions between features in ML models. This new tool for human-explainable AI adds a new, global perspective to the observation-level explanations provided by the popular [SHAP](https://shap.readthedocs.io/en/latest/) approach. To learn more about FACET's model inspection capabilities, see the getting started example below.\n",
    "\n",
    "\n",
    "- **Model Simulation**\n",
    "\n",
    "    FACET's model simulation algorithms use ML models for *virtual experiments* to help identify scenarios that optimise predicted  outcomes. To quantify the uncertainty in simulations, FACET utilises a range of bootstrapping algorithms including stationary and stratified bootstraps. For an example of FACET’s bootstrap simulations, see the getting started example below.    \n",
    "    \n",
    "    \n",
    "- **Enhanced Machine Learning Workflow**  \n",
    "\n",
    "    FACET offers an efficient and transparent machine learning workflow, enhancing [scikit-learn]( https://scikit-learn.org/stable/index.html)'s tried and tested pipelining paradigm with new capabilities for model selection, inspection, and simulation. FACET also introduces [sklearndf](https://github.com/BCG-Gamma/sklearndf), an augmented version of *scikit-learn* with enhanced support for *pandas* dataframes that ensures end-to-end traceability of features.     \n",
    "\n",
    "***\n",
    "\n",
    "**Context**\n",
    "\n",
    "*Please provide relevant context for the tutorial including:*\n",
    "\n",
    "1. *Question(s) to answer*  \n",
    "2. *Data source(s) used*\n",
    "\n",
    "*This section should be kept brief and to the point. Further background information on the data, EDA, etc should be placed in the Appendix at the end of the notebook.*\n",
    "\n",
    "***\n",
    "\n",
    "**Tutorial outline**\n",
    "\n",
    "*The tutorial should have the following structure, and should always link to the same heading in the notebook:*\n",
    "\n",
    "1. [Required imports](#Required-imports)\n",
    "2. [*Your sections*](#Your-sections)  \n",
    "... *more of your sections*\n",
    "\n",
    "3. [Summary](#Summary)\n",
    "4. [What can you do next?](#What-can-you-do-next?)\n",
    "5. [Appendix](#Appendix)"
   ]
  },
  {
   "cell_type": "markdown",
   "metadata": {},
   "source": [
    "# Required imports"
   ]
  },
  {
   "cell_type": "markdown",
   "metadata": {},
   "source": [
    "In order to run this notebook, we will import not only the FACET package, but also other packages useful to solve this task. Overall, we can break down the imports into three categories: \n",
    "\n",
    "1. Common packages (pandas, matplotlib, etc.)\n",
    "2. Required FACET classes (inspection, selection, validation, simulation, etc.)\n",
    "3. Other BCG Gamma packages which simplify pipelining (sklearndf, see on [GitHub](https://github.com/orgs/BCG-Gamma/sklearndf/)) and support visualization (pytools, see on [GitHub](https://github.com/BCG-Gamma/pytools)) when using FACET"
   ]
  },
  {
   "cell_type": "markdown",
   "metadata": {},
   "source": [
    "**Common package imports**"
   ]
  },
  {
   "cell_type": "code",
   "execution_count": 3,
   "metadata": {},
   "outputs": [],
   "source": [
    "# list your usual imports here such as pandas, numpy and others \n",
    "# not covered by FACET, sklearndf or pytools"
   ]
  },
  {
   "cell_type": "markdown",
   "metadata": {},
   "source": [
    "**FACET imports**"
   ]
  },
  {
   "cell_type": "code",
   "execution_count": 1,
   "metadata": {},
   "outputs": [],
   "source": [
    "# list your Gamma facet imports here"
   ]
  },
  {
   "cell_type": "markdown",
   "metadata": {},
   "source": [
    "**sklearndf imports**\n",
    "\n",
    "Instead of using the \"regular\" scikit-learn package, we are going to use sklearndf (see on [GitHub](https://github.com/orgs/BCG-Gamma/sklearndf/)). sklearndf is an open source library designed to address a common issue with scikit-learn: the outputs of transformers are numpy arrays, even when the input is a data frame. However, to inspect a model it is essential to keep track of the feature names. sklearndf retains all the functionality available through scikit-learn plus the feature traceability and usability associated with Pandas data frames. Additionally, the names of all your favourite scikit-learn functions are the same except for `DF` on the end. For example, the standard scikit-learn import:\n",
    "\n",
    "`from sklearn.pipeline import Pipeline`\n",
    "\n",
    "becomes:\n",
    "\n",
    "`from sklearndf.pipeline import PipelineDF`"
   ]
  },
  {
   "cell_type": "code",
   "execution_count": 4,
   "metadata": {},
   "outputs": [],
   "source": [
    "# list your sklearndf imports here"
   ]
  },
  {
   "cell_type": "markdown",
   "metadata": {},
   "source": [
    "**pytools imports**\n",
    "\n",
    "pytools (see on [GitHub](https://github.com/BCG-Gamma/pytools)) is an open source library containing general machine learning and visualization utilities, some of which are useful for visualising the advanced model inspection capabilities of FACET."
   ]
  },
  {
   "cell_type": "code",
   "execution_count": 5,
   "metadata": {},
   "outputs": [],
   "source": [
    "# list your pytools imports here"
   ]
  },
  {
   "cell_type": "markdown",
   "metadata": {},
   "source": [
    "# *Your sections*\n",
    "\n",
    "1. *Your text providing an overview of this section.*\n",
    "2. *Use as many sections as you need to provide a good high-level structure to the tutorial, such as preprocessing, classifier development or model inspection*"
   ]
  },
  {
   "cell_type": "markdown",
   "metadata": {},
   "source": [
    "## *Your subsections*\n",
    "\n",
    "1. *Your text describing what the set-up for this section.*\n",
    "2. *Use subsections as need to ensure a section has a clear structure, for example under a section for model inspection you might include subsections for feature importance, SHAP feature interactions, synergy or redundancy*"
   ]
  },
  {
   "cell_type": "markdown",
   "metadata": {},
   "source": [
    "# Summary\n",
    "\n",
    "*This section should list the key conclusions/takeaways from the tutorial.*"
   ]
  },
  {
   "cell_type": "markdown",
   "metadata": {},
   "source": [
    "# What can you do next?\n",
    "\n",
    "*If applicable this section should note what readers of the tutorial can think about or do next to extend what was done or develop the skills taught further.*"
   ]
  },
  {
   "cell_type": "markdown",
   "metadata": {},
   "source": [
    "# Appendix\n",
    "\n",
    "*The Appendix should detail all relevant information to the tutorial not included in the main outline above. It should include at a minimum the two sections below.*"
   ]
  },
  {
   "cell_type": "markdown",
   "metadata": {},
   "source": [
    "## Data source and study cohort\n",
    "\n",
    "*This section should include all information relevant to obtaining the data used in the tutorial and reproducing the starting point for the tutorial. This could include things like:* \n",
    "\n",
    "1. *Detailed listings of data sources, including links and how to access*  \n",
    "2. *How the study population are defined, whether it be all transactions over a certain value or all patients above a certain age*  \n",
    "3. *If any features or the target require definitions in order to be derived from the data, such as the combination of levels in biomarkers*\n",
    "4. *Any other information pertinent to the reproducibility of the tutorial*"
   ]
  },
  {
   "cell_type": "markdown",
   "metadata": {},
   "source": [
    "## Exploratory Data Analysis (EDA)"
   ]
  },
  {
   "cell_type": "markdown",
   "metadata": {},
   "source": [
    "*This section should perform two functions:*  \n",
    "\n",
    "1. *To walk the reader through the EDA behind the tutorial, and*  \n",
    "2. *Provide a quick summary of EDA conclusions relevant to the tutorial which could include items such as identifying missingness, then need for transformations or outlier mitigation, basic associations between features and the target, etc*"
   ]
  }
 ],
 "metadata": {
  "kernelspec": {
   "display_name": "Python 3",
   "language": "python",
   "name": "python3"
  },
  "language_info": {
   "codemirror_mode": {
    "name": "ipython",
    "version": 3
   },
   "file_extension": ".py",
   "mimetype": "text/x-python",
   "name": "python",
   "nbconvert_exporter": "python",
   "pygments_lexer": "ipython3",
   "version": "3.7.8"
  },
  "toc": {
   "base_numbering": 1,
   "nav_menu": {},
   "number_sections": false,
   "sideBar": true,
   "skip_h1_title": false,
   "title_cell": "Table of Contents",
   "title_sidebar": "Contents",
   "toc_cell": false,
   "toc_position": {},
   "toc_section_display": true,
   "toc_window_display": false
  }
 },
 "nbformat": 4,
 "nbformat_minor": 4
}
