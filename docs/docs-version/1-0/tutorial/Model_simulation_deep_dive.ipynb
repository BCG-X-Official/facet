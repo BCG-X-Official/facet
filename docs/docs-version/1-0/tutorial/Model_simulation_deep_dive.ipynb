{
 "cells": [
  {
   "cell_type": "markdown",
   "metadata": {
    "raw_mimetype": "text/html"
   },
   "source": [
    "<img src=\"../_static/Gamma_Facet_Logo_RGB_LB.svg\" width=\"500\" style=\"padding-bottom: 70px; padding-top: 70px; margin: auto; display: block\">"
   ]
  },
  {
   "cell_type": "markdown",
   "metadata": {},
   "source": [
    "# Bootstrap simulation with FACET\n",
    "\n",
    "***\n",
    "\n",
    "FACET is composed of the following key components:\n",
    "\n",
    "- **Model Inspection**\n",
    "\n",
    "    FACET introduces a new algorithm to quantify dependencies and interactions between features in ML models. This new tool for human-explainable AI adds a new, global perspective to the observation-level explanations provided by the popular [SHAP](https://shap.readthedocs.io/en/latest/) approach. To learn more about FACET's model inspection capabilities, see the getting started example below.\n",
    "\n",
    "\n",
    "- **Model Simulation**\n",
    "\n",
    "    FACET's model simulation algorithms use ML models for *virtual experiments* to help identify scenarios that optimise predicted  outcomes. To quantify the uncertainty in simulations, FACET utilises a range of bootstrapping algorithms including stationary and stratified bootstraps. For an example of FACET’s bootstrap simulations, see the getting started example below.    \n",
    "    \n",
    "    \n",
    "- **Enhanced Machine Learning Workflow**  \n",
    "\n",
    "    FACET offers an efficient and transparent machine learning workflow, enhancing [scikit-learn]( https://scikit-learn.org/stable/index.html)'s tried and tested pipelining paradigm with new capabilities for model selection, inspection, and simulation. FACET also introduces [sklearndf](https://github.com/BCG-Gamma/sklearndf), an augmented version of *scikit-learn* with enhanced support for *pandas* dataframes that ensures end-to-end traceability of features.\n",
    "\n",
    "***\n",
    "\n",
    "**Context**\n",
    "\n",
    "This tutorial aims to provide a step by step explanation about the simulation capabilities of FACET and is based on the Water Drilling Tutorial. If you would like further background to this tutorial we recommend reviewing Water Drilling tutorial first, however, as a brief re-cap:\n",
    "\n",
    "Drilling a water well is very dangerous and costly. The costs of such drilling are driven by the time it takes to finalize a well in order to start pumping water from it. To reduce those costs, drillers are usually incentivized to drill at a faster pace—measured as the Rate of Penetration (ROP). Depending on soil characteristics, day rates can range from `$30,000` to `$250,000`. But there is a trade-off: Drilling faster increases the risk of incidents, such as a formation collapse or a gas infiltration. We will therefore built a machine-learning model to understand the impact of drilling speed on the incident risk, in the context of other risk factors. \n",
    "\n",
    "For the sake of clarity, we use a simplified dataset for this example. The dataset contains 500 observations, with each row representing a drilling operation of the past, along with a binary indicator of whether or not a well-drilling incident happened in the operation. \n",
    "\n",
    "Analysis in the Water Drilling tutorial identified a LGBMClassifier with a value of 15 for `min_data_in_leaf` as the best performing model among those investigated, and the final set of relevant features identified were: Weight on bit (kg), Rotation speed (rpm), Depth of operation (m), Mud density (kg/L), Rate of Penetration (ft/h), and Hole diameter (m).\n",
    "\n",
    "***\n",
    "\n",
    "**Tutorial outline**\n",
    "\n",
    "1. [Required imports](#Required-imports)\n",
    "2. [Data](#Data)  \n",
    "3. [Bootstrap simulation overview](#Bootstrap-simulation-overview) \n",
    "4. [Partitioning](#Partitioning) \n",
    "5. [Creating multiple train and test splits with bootstrap resampling](#Creating-multiple-train-and-test-splits-with-bootstrap-resampling)\n",
    "6. [Model fitting using resampled training sets](#Model-fitting-using-resampled-training-sets)\n",
    "7. [Simulating actuals](#Simulating-actuals)\n",
    "8. [Simulating response](#Simulating-response)\n",
    "9. [Summary](#Summary)\n",
    "10. [What can you do next?](#What-can-you-do-next?)"
   ]
  },
  {
   "cell_type": "code",
   "execution_count": 1,
   "metadata": {
    "delete_for_interactive": true,
    "nbsphinx": "hidden"
   },
   "outputs": [],
   "source": [
    "# this cell's metadata contains\n",
    "# \"nbsphinx\": \"hidden\" so it is hidden by nbsphinx\n",
    "\n",
    "\n",
    "def _ignore_warnings():\n",
    "    # ignore irrelevant warnings that would affect the output of this tutorial notebook\n",
    "\n",
    "    # ignore a useless LGBM warning\n",
    "    import warnings\n",
    "\n",
    "    warnings.filterwarnings(\"ignore\", category=UserWarning, message=r\".*Xcode_8\\.3\\.3\")\n",
    "\n",
    "\n",
    "_ignore_warnings()\n",
    "\n",
    "del _ignore_warnings\n",
    "\n",
    "\n",
    "import matplotlib.pyplot as plt\n",
    "\n",
    "\n",
    "def _configure_matplotlib():\n",
    "    # set global options for matplotlib\n",
    "\n",
    "    import matplotlib\n",
    "\n",
    "    matplotlib.rcParams[\"figure.figsize\"] = (16.0, 8.0)\n",
    "    matplotlib.rcParams[\"figure.dpi\"] = 72\n",
    "\n",
    "\n",
    "_configure_matplotlib()\n",
    "\n",
    "del _configure_matplotlib"
   ]
  },
  {
   "cell_type": "markdown",
   "metadata": {},
   "source": [
    "# Required imports"
   ]
  },
  {
   "cell_type": "markdown",
   "metadata": {},
   "source": [
    "In order to run this notebook, we will import not only the FACET package, but also other packages useful to solve this task. Overall, we can break down the imports into three categories: \n",
    "\n",
    "1. Common packages (pandas, matplotlib, etc.)\n",
    "2. Required FACET classes (inspection, selection, validation, simulation, etc.)\n",
    "3. Other BCG GAMMA packages which simplify pipelining (sklearndf, see on [GitHub](https://github.com/BCG-Gamma/sklearndf/)) and support visualization (pytools, see on [GitHub](https://github.com/BCG-Gamma/pytools)) when using FACET"
   ]
  },
  {
   "cell_type": "markdown",
   "metadata": {},
   "source": [
    "**Common package imports**"
   ]
  },
  {
   "cell_type": "code",
   "execution_count": 2,
   "metadata": {},
   "outputs": [],
   "source": [
    "# list your usual imports here such as pandas, numpy and others \n",
    "# not covered by FACET, sklearndf or pytools\n",
    "import numpy as np\n",
    "import pandas as pd\n",
    "import seaborn as sns"
   ]
  },
  {
   "cell_type": "markdown",
   "metadata": {},
   "source": [
    "**FACET imports**"
   ]
  },
  {
   "cell_type": "code",
   "execution_count": 3,
   "metadata": {},
   "outputs": [],
   "source": [
    "from facet.data import Sample\n",
    "from facet.validation import BootstrapCV\n",
    "from facet.simulation.partition import (\n",
    "    ContinuousRangePartitioner,\n",
    "    IntegerRangePartitioner,\n",
    "    CategoryPartitioner,\n",
    ")\n",
    "from facet.simulation import UnivariateProbabilitySimulator\n",
    "from facet.simulation.viz import SimulationDrawer\n",
    "from facet.crossfit import LearnerCrossfit"
   ]
  },
  {
   "cell_type": "markdown",
   "metadata": {},
   "source": [
    "**sklearndf imports**\n",
    "\n",
    "Instead of using the \"regular\" scikit-learn package, we are going to use sklearndf (see on [GitHub](https://github.com/orgs/BCG-Gamma/sklearndf/)). sklearndf is an open source library designed to address a common issue with scikit-learn: the outputs of transformers are numpy arrays, even when the input is a data frame. However, to inspect a model it is essential to keep track of the feature names. sklearndf retains all the functionality available through scikit-learn plus the feature traceability and usability associated with Pandas data frames. Additionally, the names of all your favourite scikit-learn functions are the same except for `DF` on the end. For example, the standard scikit-learn import:\n",
    "\n",
    "`from sklearn.pipeline import Pipeline`\n",
    "\n",
    "becomes:\n",
    "\n",
    "`from sklearndf.pipeline import PipelineDF`"
   ]
  },
  {
   "cell_type": "code",
   "execution_count": 4,
   "metadata": {},
   "outputs": [],
   "source": [
    "from sklearndf.pipeline import ClassifierPipelineDF\n",
    "from sklearndf.classification.extra import LGBMClassifierDF"
   ]
  },
  {
   "cell_type": "markdown",
   "metadata": {},
   "source": [
    "**pytools imports**\n",
    "\n",
    "pytools (see on [GitHub](https://github.com/BCG-Gamma/pytools)) is an open source library containing general machine learning and visualization utilities, some of which are useful for visualising the advanced model inspection capabilities of FACET."
   ]
  },
  {
   "cell_type": "code",
   "execution_count": 5,
   "metadata": {},
   "outputs": [],
   "source": [
    "from pytools.viz.distribution import ECDFDrawer"
   ]
  },
  {
   "cell_type": "markdown",
   "metadata": {},
   "source": [
    "# Data\n",
    "\n",
    "Based on the water well drilling tutorial, we select a feature set all most linearly independent with the Rate of Penetration (ROP)."
   ]
  },
  {
   "cell_type": "code",
   "execution_count": 6,
   "metadata": {},
   "outputs": [
    {
     "data": {
      "text/html": [
       "<div>\n",
       "<style scoped>\n",
       "    .dataframe tbody tr th:only-of-type {\n",
       "        vertical-align: middle;\n",
       "    }\n",
       "\n",
       "    .dataframe tbody tr th {\n",
       "        vertical-align: top;\n",
       "    }\n",
       "\n",
       "    .dataframe thead th {\n",
       "        text-align: right;\n",
       "    }\n",
       "</style>\n",
       "<table border=\"1\" class=\"dataframe\">\n",
       "  <thead>\n",
       "    <tr style=\"text-align: right;\">\n",
       "      <th>feature</th>\n",
       "      <th>Weight on bit (kg)</th>\n",
       "      <th>Rotation speed (rpm)</th>\n",
       "      <th>Depth of operation (m)</th>\n",
       "      <th>Mud density (kg/L)</th>\n",
       "      <th>Rate of Penetration (ft/h)</th>\n",
       "      <th>Hole diameter (m)</th>\n",
       "    </tr>\n",
       "    <tr>\n",
       "      <th>observation</th>\n",
       "      <th></th>\n",
       "      <th></th>\n",
       "      <th></th>\n",
       "      <th></th>\n",
       "      <th></th>\n",
       "      <th></th>\n",
       "    </tr>\n",
       "  </thead>\n",
       "  <tbody>\n",
       "    <tr>\n",
       "      <th>0</th>\n",
       "      <td>306.141821</td>\n",
       "      <td>9849.952938</td>\n",
       "      <td>927.968837</td>\n",
       "      <td>2.902467</td>\n",
       "      <td>10.000000</td>\n",
       "      <td>6.373932</td>\n",
       "    </tr>\n",
       "    <tr>\n",
       "      <th>1</th>\n",
       "      <td>324.039405</td>\n",
       "      <td>10744.516916</td>\n",
       "      <td>1106.187754</td>\n",
       "      <td>2.106770</td>\n",
       "      <td>32.898796</td>\n",
       "      <td>7.507640</td>\n",
       "    </tr>\n",
       "    <tr>\n",
       "      <th>2</th>\n",
       "      <td>345.377055</td>\n",
       "      <td>5393.241061</td>\n",
       "      <td>898.168085</td>\n",
       "      <td>3.909455</td>\n",
       "      <td>22.723761</td>\n",
       "      <td>6.180673</td>\n",
       "    </tr>\n",
       "    <tr>\n",
       "      <th>3</th>\n",
       "      <td>356.709497</td>\n",
       "      <td>6776.865696</td>\n",
       "      <td>769.165223</td>\n",
       "      <td>2.473607</td>\n",
       "      <td>25.168914</td>\n",
       "      <td>5.368265</td>\n",
       "    </tr>\n",
       "    <tr>\n",
       "      <th>4</th>\n",
       "      <td>328.437275</td>\n",
       "      <td>6024.116387</td>\n",
       "      <td>215.202605</td>\n",
       "      <td>3.033681</td>\n",
       "      <td>18.921436</td>\n",
       "      <td>2.092908</td>\n",
       "    </tr>\n",
       "  </tbody>\n",
       "</table>\n",
       "</div>"
      ],
      "text/plain": [
       "feature      Weight on bit (kg)  Rotation speed (rpm)  Depth of operation (m)  \\\n",
       "observation                                                                     \n",
       "0                    306.141821           9849.952938              927.968837   \n",
       "1                    324.039405          10744.516916             1106.187754   \n",
       "2                    345.377055           5393.241061              898.168085   \n",
       "3                    356.709497           6776.865696              769.165223   \n",
       "4                    328.437275           6024.116387              215.202605   \n",
       "\n",
       "feature      Mud density (kg/L)  Rate of Penetration (ft/h)  Hole diameter (m)  \n",
       "observation                                                                     \n",
       "0                      2.902467                   10.000000           6.373932  \n",
       "1                      2.106770                   32.898796           7.507640  \n",
       "2                      3.909455                   22.723761           6.180673  \n",
       "3                      2.473607                   25.168914           5.368265  \n",
       "4                      3.033681                   18.921436           2.092908  "
      ]
     },
     "execution_count": 6,
     "metadata": {},
     "output_type": "execute_result"
    }
   ],
   "source": [
    "# load the prepared dataframe\n",
    "df = pd.read_csv(\n",
    "    \"sphinx/source/tutorial/water_drill_data_classification.csv\",\n",
    "    sep=\";\",\n",
    "    encoding=\"utf-8\",\n",
    ")\n",
    "\n",
    "# relevant features identified in previous tutorial\n",
    "feature_set = ['Weight on bit (kg)', 'Rotation speed (rpm)',\n",
    "               'Depth of operation (m)', 'Mud density (kg/L)',\n",
    "               'Rate of Penetration (ft/h)', 'Hole diameter (m)']\n",
    "\n",
    "# create a FACET sample object\n",
    "drilling_obs = Sample(observations=df, \n",
    "                      target_name=\"Incident\", \n",
    "                      feature_names=feature_set)\n",
    "\n",
    "# quick look\n",
    "drilling_obs.features.head()"
   ]
  },
  {
   "cell_type": "markdown",
   "metadata": {},
   "source": [
    "# Bootstrap simulation overview\n",
    "\n",
    "The figure above provides and overview of the simulation process for a single bootstrap split. This process is repeated many time to create a distribution of predicted impact for each value of a feature.\n",
    "\n",
    "<img src=\"../_static/Facet-Simulator-BlockDiagram.png\" width=\"750\">\n"
   ]
  },
  {
   "cell_type": "markdown",
   "metadata": {},
   "source": [
    "## Partitioning\n",
    "\n",
    "The first step to simulate feature effects on the target is to set the scope of the study for the feature we want to simulate. Let's take the ROP measured in feet per hour (ft/h) as the feature to simulate."
   ]
  },
  {
   "cell_type": "markdown",
   "metadata": {},
   "source": [
    "The plot below shows that the ROP is centered around 24 ft/h with a range of 10 to 40ft/h."
   ]
  },
  {
   "cell_type": "code",
   "execution_count": 7,
   "metadata": {},
   "outputs": [
    {
     "data": {
      "text/plain": [
       "<matplotlib.axes._subplots.AxesSubplot at 0x26ebda4bb08>"
      ]
     },
     "execution_count": 7,
     "metadata": {},
     "output_type": "execute_result"
    },
    {
     "data": {
      "image/png": "[encoded data removed]",
      "text/plain": [
       "<Figure size 1152x576 with 1 Axes>"
      ]
     },
     "metadata": {
      "needs_background": "light"
     },
     "output_type": "display_data"
    }
   ],
   "source": [
    "SIM_FEATURE = \"Rate of Penetration (ft/h)\"\n",
    "sns.distplot(a=drilling_obs.features[SIM_FEATURE], rug=True)"
   ]
  },
  {
   "cell_type": "markdown",
   "metadata": {},
   "source": [
    "As ROP is a continuous variable we use the `ContinuousRangePartitioner()` to generate partitions."
   ]
  },
  {
   "cell_type": "code",
   "execution_count": 8,
   "metadata": {},
   "outputs": [
    {
     "data": {
      "text/plain": [
       "True"
      ]
     },
     "execution_count": 8,
     "metadata": {},
     "output_type": "execute_result"
    }
   ],
   "source": [
    "# instantiate the partitioner\n",
    "rop_bins = ContinuousRangePartitioner()\n",
    "\n",
    "# fit the partitioner on the observations' distribution\n",
    "rop_bins.fit(values=drilling_obs.features[SIM_FEATURE])\n",
    "\n",
    "# check bins are fit\n",
    "rop_bins.is_fitted()"
   ]
  },
  {
   "cell_type": "markdown",
   "metadata": {},
   "source": [
    "Now let's visualize what the partitioner provides. In the plot below each bar is a partition created by the `ContinuousRangePartitioner()`. `rop_bins.partitions_` provided the bin mid-points, `rop_bins.frequencies_` provided the count of observations for each partition, and `rop_bins.partition_width_` specified the width of our partitions.\n",
    "\n",
    "The default behaviour of the `ContinuousRangePartitioner()` and `IntegerRangePartitioner()` is to exclude the tail values (2.5th and 97.5th percentiles) of the feature. So, the total number of observations binned is < *n* (the number of observations). In this case, the partitions encompass 478 of 500 observations (95.6%). The default upper and lower bounds can be changed using the `upper_bound` and `lower_bound` arguments of the `ContinuousRangePartitioner()` and `IntegerRangePartitioner()`, \n",
    "e.g. \n",
    "\n",
    "```python\n",
    "rop_bins = ContinuousRangePartitioner(lower_bound=10., upper_bound=40.)\n",
    "```"
   ]
  },
  {
   "cell_type": "code",
   "execution_count": 9,
   "metadata": {},
   "outputs": [
    {
     "data": {
      "text/plain": [
       "<matplotlib.axes._subplots.AxesSubplot at 0x26ebd791648>"
      ]
     },
     "execution_count": 9,
     "metadata": {},
     "output_type": "execute_result"
    },
    {
     "data": {
      "image/png": "[encoded data removed]",
      "text/plain": [
       "<Figure size 1152x576 with 1 Axes>"
      ]
     },
     "metadata": {
      "needs_background": "light"
     },
     "output_type": "display_data"
    }
   ],
   "source": [
    "plt.bar(x=rop_bins.partitions_,\n",
    "        height=rop_bins.frequencies_/drilling_obs.features.shape[0],\n",
    "        width=rop_bins.partition_width_,\n",
    "        edgecolor=\"k\")\n",
    "sns.kdeplot(data=drilling_obs.features[SIM_FEATURE])"
   ]
  },
  {
   "cell_type": "markdown",
   "metadata": {},
   "source": [
    "If you want to know the bounds for each partition you can use `rop_bins.partition_bounds_`. A quick way to list the midpoint and bounds for each partition is as follows:"
   ]
  },
  {
   "cell_type": "code",
   "execution_count": 10,
   "metadata": {},
   "outputs": [
    {
     "data": {
      "text/plain": [
       "[(15.0, (14.5, 15.5)),\n",
       " (16.0, (15.5, 16.5)),\n",
       " (17.0, (16.5, 17.5)),\n",
       " (18.0, (17.5, 18.5)),\n",
       " (19.0, (18.5, 19.5)),\n",
       " (20.0, (19.5, 20.5)),\n",
       " (21.0, (20.5, 21.5)),\n",
       " (22.0, (21.5, 22.5)),\n",
       " (23.0, (22.5, 23.5)),\n",
       " (24.0, (23.5, 24.5)),\n",
       " (25.0, (24.5, 25.5)),\n",
       " (26.0, (25.5, 26.5)),\n",
       " (27.0, (26.5, 27.5)),\n",
       " (28.0, (27.5, 28.5)),\n",
       " (29.0, (28.5, 29.5)),\n",
       " (30.0, (29.5, 30.5)),\n",
       " (31.0, (30.5, 31.5)),\n",
       " (32.0, (31.5, 32.5)),\n",
       " (33.0, (32.5, 33.5))]"
      ]
     },
     "execution_count": 10,
     "metadata": {},
     "output_type": "execute_result"
    }
   ],
   "source": [
    "list(zip(rop_bins.partitions_, rop_bins.partition_bounds_))"
   ]
  },
  {
   "cell_type": "markdown",
   "metadata": {},
   "source": [
    "The above example utilized the `ContinuousRangePartitioner()`. FACET has three variations of partitioner available depending on the feature type, `ContinuousRangePartitioner()`, `IntegerRangePartitioner()` and `CategoryPartitioner()`. In summary: \n",
    "\n",
    "- The `CategoryPartitioner()` will create a partition for each unique value of the feature. If the number of partitions < number of unique values in the category, the top n partition frequent categories will be used.\n",
    "\n",
    "- The `IntegerRangePartitioner()` will subdivide the feature range of values into almost equal-sized partitions while ensuring the partition bounds are integers. Each partition is represented by an integer value. If your integer feature is positive or strictly positive or has an upper bound, be sure to use the `lower_bound` and/or `upper_bound` arguments.\n",
    "\n",
    "- The `ContinuousRangePartitioner()` will subdivide the feature range of values into equal-sized partitions. Each partition is represented by the partition mid-point."
   ]
  },
  {
   "cell_type": "markdown",
   "metadata": {},
   "source": [
    "## Creating multiple train and test splits with bootstrap resampling\n",
    "\n",
    "Bootstrapping is the process of resampling data with replacement to generate a data set of the same size as the original. Bootstrapping lends itself naturally to use as a cross-validation mechanism as we get a training dataset of the same size as the original data representing a theoretical draw from the same population as the original data, and a hold-out test set of unique observations also from a similar population as the original dataset and with a reasonable size (~37%)."
   ]
  },
  {
   "cell_type": "code",
   "execution_count": 11,
   "metadata": {},
   "outputs": [
    {
     "name": "stdout",
     "output_type": "stream",
     "text": [
      "Original dataset n = 500\n",
      "Resampled training set n = 500\n",
      "Resampled training set number of unique values = 300\n",
      "Test set n = 200\n",
      "Overlap between index for train and test = []\n"
     ]
    }
   ],
   "source": [
    "# instantiate bootstrap cross validation iterator with 1000 splits\n",
    "boot_cv = BootstrapCV(n_splits=1000, random_state=42)\n",
    "\n",
    "# extract the sample index for the first test-train split\n",
    "(train_split_1, test_split_1) = next(boot_cv.split(X=drilling_obs.features, y=drilling_obs.target))\n",
    "\n",
    "# calculate charateristics of indexes for first split\n",
    "print(f\"Original dataset n = {drilling_obs.features.shape[0]}\")\n",
    "print(f\"Resampled training set n = {len(train_split_1)}\")\n",
    "print(f\"Resampled training set number of unique values = {len(np.unique(train_split_1))}\")\n",
    "print(f\"Test set n = {len(test_split_1)}\")\n",
    "print(f\"Overlap between index for train and test = {list(set(train_split_1) & set(test_split_1))}\")"
   ]
  },
  {
   "cell_type": "markdown",
   "metadata": {},
   "source": [
    "As we can see, in the first split we have a training set of 500 observations (the same size as the original dataset) that contains 300 unique observations sampled from the original dataset. The remaining 200 observations the were not sampled are put aside as the test split. This represents a single bootstrap split. Further, because the training set for each bootstrap is those observations that were not sampled, this number can vary from split to split, while the size of the training set is constant."
   ]
  },
  {
   "cell_type": "code",
   "execution_count": 12,
   "metadata": {},
   "outputs": [
    {
     "data": {
      "text/html": [
       "<div>\n",
       "<style scoped>\n",
       "    .dataframe tbody tr th:only-of-type {\n",
       "        vertical-align: middle;\n",
       "    }\n",
       "\n",
       "    .dataframe tbody tr th {\n",
       "        vertical-align: top;\n",
       "    }\n",
       "\n",
       "    .dataframe thead th {\n",
       "        text-align: right;\n",
       "    }\n",
       "</style>\n",
       "<table border=\"1\" class=\"dataframe\">\n",
       "  <thead>\n",
       "    <tr style=\"text-align: right;\">\n",
       "      <th></th>\n",
       "      <th>n_train</th>\n",
       "      <th>n_test</th>\n",
       "    </tr>\n",
       "  </thead>\n",
       "  <tbody>\n",
       "    <tr>\n",
       "      <th>count</th>\n",
       "      <td>1000.0</td>\n",
       "      <td>1000.000000</td>\n",
       "    </tr>\n",
       "    <tr>\n",
       "      <th>mean</th>\n",
       "      <td>500.0</td>\n",
       "      <td>184.029000</td>\n",
       "    </tr>\n",
       "    <tr>\n",
       "      <th>std</th>\n",
       "      <td>0.0</td>\n",
       "      <td>6.771263</td>\n",
       "    </tr>\n",
       "    <tr>\n",
       "      <th>min</th>\n",
       "      <td>500.0</td>\n",
       "      <td>162.000000</td>\n",
       "    </tr>\n",
       "    <tr>\n",
       "      <th>25%</th>\n",
       "      <td>500.0</td>\n",
       "      <td>179.000000</td>\n",
       "    </tr>\n",
       "    <tr>\n",
       "      <th>50%</th>\n",
       "      <td>500.0</td>\n",
       "      <td>184.000000</td>\n",
       "    </tr>\n",
       "    <tr>\n",
       "      <th>75%</th>\n",
       "      <td>500.0</td>\n",
       "      <td>189.000000</td>\n",
       "    </tr>\n",
       "    <tr>\n",
       "      <th>max</th>\n",
       "      <td>500.0</td>\n",
       "      <td>205.000000</td>\n",
       "    </tr>\n",
       "  </tbody>\n",
       "</table>\n",
       "</div>"
      ],
      "text/plain": [
       "       n_train       n_test\n",
       "count   1000.0  1000.000000\n",
       "mean     500.0   184.029000\n",
       "std        0.0     6.771263\n",
       "min      500.0   162.000000\n",
       "25%      500.0   179.000000\n",
       "50%      500.0   184.000000\n",
       "75%      500.0   189.000000\n",
       "max      500.0   205.000000"
      ]
     },
     "execution_count": 12,
     "metadata": {},
     "output_type": "execute_result"
    }
   ],
   "source": [
    "# extract index lengths for each bootstrap test train split\n",
    "rows = [[len(train_index), len(test_index)] for train_index, test_index in boot_cv.split(X=drilling_obs.features, y=drilling_obs.target)]\n",
    "num_obs_df = pd.DataFrame(rows, columns=['n_train', 'n_test'])\n",
    "num_obs_df.describe()"
   ]
  },
  {
   "cell_type": "markdown",
   "metadata": {},
   "source": [
    "Hence, in this example we can see that we have generated 1000 training datasets of 500 observations, while the size of the training set varies between 162 and 205, with a median size of 184 (36.8%) which is a little over one third of the data."
   ]
  },
  {
   "cell_type": "code",
   "execution_count": 13,
   "metadata": {},
   "outputs": [
    {
     "data": {
      "image/png": "[encoded data removed]",
      "text/plain": [
       "<Figure size 1152x576 with 3 Axes>"
      ]
     },
     "metadata": {
      "needs_background": "light"
     },
     "output_type": "display_data"
    }
   ],
   "source": [
    "# compare ECDF for test and train first split with original\n",
    "plt.subplot(1, 3, 1)\n",
    "ECDFDrawer().draw(data=drilling_obs.features[SIM_FEATURE], title='Original data')\n",
    "plt.subplot(1, 3, 2)\n",
    "ECDFDrawer().draw(data=drilling_obs.features.loc[train_split_1, [SIM_FEATURE]], title='Training data - split 1')\n",
    "plt.subplot(1, 3, 3)\n",
    "ECDFDrawer().draw(data=drilling_obs.features.loc[test_split_1, [SIM_FEATURE]], title='Test data - split 1')"
   ]
  },
  {
   "cell_type": "markdown",
   "metadata": {},
   "source": [
    "We can also see that bootstrap resampling with sufficient sample size provides feature distributions in the train and test sets that are representative of the original data. "
   ]
  },
  {
   "cell_type": "markdown",
   "metadata": {},
   "source": [
    "## Model fitting using resampled training sets\n",
    "\n",
    "With our resampled training sets the idea is to use the model we identified previously and fit the model on each one in order to generate a series of models that will give slightly different predictions for the same feature combination."
   ]
  },
  {
   "cell_type": "code",
   "execution_count": 14,
   "metadata": {},
   "outputs": [
    {
     "name": "stderr",
     "output_type": "stream",
     "text": [
      "[Parallel(n_jobs=-3)]: Using backend LokyBackend with 6 concurrent workers.\n",
      "[Parallel(n_jobs=-3)]: Done  38 tasks      | elapsed:   16.9s\n",
      "[Parallel(n_jobs=-3)]: Done 188 tasks      | elapsed:   25.2s\n",
      "[Parallel(n_jobs=-3)]: Done 438 tasks      | elapsed:   39.6s\n",
      "[Parallel(n_jobs=-3)]: Done 788 tasks      | elapsed:  1.0min\n",
      "[Parallel(n_jobs=-3)]: Done 1000 out of 1000 | elapsed:  1.2min finished\n"
     ]
    },
    {
     "data": {
      "text/plain": [
       "<facet.crossfit._crossfit.LearnerCrossfit at 0x26ebdbc1608>"
      ]
     },
     "execution_count": 14,
     "metadata": {},
     "output_type": "execute_result"
    }
   ],
   "source": [
    "# best perfoming light gradient boosting learner identified previously\n",
    "lgbm_clf = ClassifierPipelineDF(\n",
    "    classifier=LGBMClassifierDF(random_state=42, min_data_in_leaf=15),\n",
    ")\n",
    "\n",
    "# instantiate the crossfit\n",
    "boot_crossfit = LearnerCrossfit(\n",
    "    pipeline=lgbm_clf,\n",
    "    cv=boot_cv,\n",
    "    n_jobs=-3,\n",
    "    verbose=1,\n",
    ")\n",
    "\n",
    "# fit the model\n",
    "boot_crossfit.fit(sample=drilling_obs, verbose=-1)"
   ]
  },
  {
   "cell_type": "markdown",
   "metadata": {},
   "source": [
    "After fitting the crossfit, `boot_crossfit.models()` contains the model fitted on each resampled training set. We can check this as follows:"
   ]
  },
  {
   "cell_type": "code",
   "execution_count": 15,
   "metadata": {},
   "outputs": [
    {
     "data": {
      "text/plain": [
       "True"
      ]
     },
     "execution_count": 15,
     "metadata": {},
     "output_type": "execute_result"
    }
   ],
   "source": [
    "model_split_1 = next(boot_crossfit.models())\n",
    "model_split_1.is_fitted"
   ]
  },
  {
   "cell_type": "markdown",
   "metadata": {},
   "source": [
    "We can also get a sense of the variation in prediction for a single feature combination across the different splits and hence, trained models."
   ]
  },
  {
   "cell_type": "code",
   "execution_count": 16,
   "metadata": {},
   "outputs": [],
   "source": [
    "single_test_obs = drilling_obs.features.loc[2:2]\n",
    "rows = [model.predict_proba(X=single_test_obs)[1].ravel() for model in boot_crossfit.models()]\n",
    "pred_df = pd.DataFrame(rows, columns=['pred_prob'])"
   ]
  },
  {
   "cell_type": "code",
   "execution_count": 17,
   "metadata": {},
   "outputs": [
    {
     "data": {
      "text/plain": [
       "count    1000.000000\n",
       "mean        0.031569\n",
       "std         0.085192\n",
       "min         0.000408\n",
       "25%         0.002812\n",
       "50%         0.005577\n",
       "75%         0.015844\n",
       "max         0.936496\n",
       "Name: pred_prob, dtype: float64"
      ]
     },
     "execution_count": 17,
     "metadata": {},
     "output_type": "execute_result"
    }
   ],
   "source": [
    "pred_df['pred_prob'].describe()"
   ]
  },
  {
   "cell_type": "markdown",
   "metadata": {},
   "source": [
    "In this case for the observation we choose, we see that the 1000 models produce an average predicted probability of the positive class of 0.03 with an IQR of 0.003 to 0.015."
   ]
  },
  {
   "cell_type": "markdown",
   "metadata": {},
   "source": [
    "## Simulating actuals\n",
    "\n",
    "For each test split we can predict the outcome and look at the deviation between the average prediction for a test split and the actual average of the target in the original dataset. The spread and offset of these deviations can serve as an indication of how the bias of the model contributes to the uncertainty of simulations."
   ]
  },
  {
   "cell_type": "code",
   "execution_count": 18,
   "metadata": {},
   "outputs": [],
   "source": [
    "# instantiate simulator\n",
    "rop_simulator = UnivariateProbabilitySimulator(crossfit=boot_crossfit, n_jobs=-3)"
   ]
  },
  {
   "cell_type": "code",
   "execution_count": 19,
   "metadata": {},
   "outputs": [
    {
     "data": {
      "text/plain": [
       "<matplotlib.axes._subplots.AxesSubplot at 0x26ebe10a988>"
      ]
     },
     "execution_count": 19,
     "metadata": {},
     "output_type": "execute_result"
    },
    {
     "data": {
      "image/png": "[encoded data removed]",
      "text/plain": [
       "<Figure size 1152x576 with 1 Axes>"
      ]
     },
     "metadata": {
      "needs_background": "light"
     },
     "output_type": "display_data"
    }
   ],
   "source": [
    "# simulate average difference between \n",
    "actual_distribution = rop_simulator.simulate_actuals()\n",
    "sns.distplot(a=actual_distribution, rug=True)"
   ]
  },
  {
   "cell_type": "code",
   "execution_count": 20,
   "metadata": {},
   "outputs": [
    {
     "name": "stdout",
     "output_type": "stream",
     "text": [
      "Median: 0.01144604449983927\n",
      "lower bound: -0.041598812224331705\n",
      "upper bound: 0.06341163035165856\n"
     ]
    }
   ],
   "source": [
    "print(f\"Median: {np.median(actual_distribution)}\")\n",
    "print(f\"lower bound: {np.percentile(actual_distribution, 2.5)}\")\n",
    "print(f\"upper bound: {np.percentile(actual_distribution, 97.5)}\")"
   ]
  },
  {
   "cell_type": "markdown",
   "metadata": {},
   "source": [
    "In our case, the model's deviation does not exceed 6% of the target."
   ]
  },
  {
   "cell_type": "code",
   "execution_count": 21,
   "metadata": {},
   "outputs": [
    {
     "data": {
      "text/plain": [
       "-0.026460215618179683"
      ]
     },
     "execution_count": 21,
     "metadata": {},
     "output_type": "execute_result"
    }
   ],
   "source": [
    "# the actual for the first split\n",
    "actual_distribution[0]"
   ]
  },
  {
   "cell_type": "markdown",
   "metadata": {},
   "source": [
    "Now to convince ourselves that this indeed works, lets grab the fitted model and the test set for the first split in our cross fit and see if we can re-produce the number for the first split."
   ]
  },
  {
   "cell_type": "code",
   "execution_count": 22,
   "metadata": {},
   "outputs": [
    {
     "data": {
      "text/plain": [
       "-0.026460215618179683"
      ]
     },
     "execution_count": 22,
     "metadata": {},
     "output_type": "execute_result"
    }
   ],
   "source": [
    "model_split_1 = next(boot_crossfit.models())\n",
    "(train_split_1, test_split_1) = next(boot_crossfit.splits())\n",
    "yhat_split_1 = model_split_1.predict_proba(X=drilling_obs.features.loc[test_split_1])[1]\n",
    "yhat_split_1.mean() - drilling_obs.target.mean()"
   ]
  },
  {
   "cell_type": "markdown",
   "metadata": {},
   "source": [
    "## Simulating response\n",
    "\n",
    "With the 1000 bootstrap splits in place and our preferred model trained on each each resampled training split, the last step is to perform prediction for the partitions of the selected feature. For each test set the selected feature is set equal to the value for a partition and the outcome predicted using the trained model for that split. The average value of the outcome is then calculated. This is repeated for each partition and in our example we have 19 partitions, so one bootstrap split will yield 19 values (one for each split). This is repeated for every bootstrap split, so with a 1000 splits, we end up with 1000 by 19 average predicted values. This means for each partition we have a distribution of a 1000 values from which we can summarize to describe the likely outcome (and associated variability) for a specific value of our feature."
   ]
  },
  {
   "cell_type": "code",
   "execution_count": 23,
   "metadata": {},
   "outputs": [],
   "source": [
    "# first run the simulator\n",
    "rop_simulation = rop_simulator.simulate_feature(feature_name=SIM_FEATURE, partitioner=rop_bins)"
   ]
  },
  {
   "cell_type": "code",
   "execution_count": 24,
   "metadata": {},
   "outputs": [
    {
     "data": {
      "image/png": "[encoded data removed]",
      "text/plain": [
       "<Figure size 1152x576 with 2 Axes>"
      ]
     },
     "metadata": {
      "needs_background": "light"
     },
     "output_type": "display_data"
    }
   ],
   "source": [
    "# now draw the output \n",
    "SimulationDrawer().draw(data=rop_simulation, title=SIM_FEATURE)"
   ]
  },
  {
   "cell_type": "markdown",
   "metadata": {},
   "source": [
    "For each partition bin (grey bar under the x-axis) thanks to bootstrapping we have a distribution of 1000 values for each, and we can access these values as shown below."
   ]
  },
  {
   "cell_type": "code",
   "execution_count": 25,
   "metadata": {},
   "outputs": [
    {
     "data": {
      "text/html": [
       "<div>\n",
       "<style scoped>\n",
       "    .dataframe tbody tr th:only-of-type {\n",
       "        vertical-align: middle;\n",
       "    }\n",
       "\n",
       "    .dataframe tbody tr th {\n",
       "        vertical-align: top;\n",
       "    }\n",
       "\n",
       "    .dataframe thead th {\n",
       "        text-align: right;\n",
       "    }\n",
       "</style>\n",
       "<table border=\"1\" class=\"dataframe\">\n",
       "  <thead>\n",
       "    <tr style=\"text-align: right;\">\n",
       "      <th>partition</th>\n",
       "      <th>15.0</th>\n",
       "      <th>16.0</th>\n",
       "      <th>17.0</th>\n",
       "      <th>18.0</th>\n",
       "      <th>19.0</th>\n",
       "      <th>20.0</th>\n",
       "      <th>21.0</th>\n",
       "      <th>22.0</th>\n",
       "      <th>23.0</th>\n",
       "      <th>24.0</th>\n",
       "      <th>25.0</th>\n",
       "      <th>26.0</th>\n",
       "      <th>27.0</th>\n",
       "      <th>28.0</th>\n",
       "      <th>29.0</th>\n",
       "      <th>30.0</th>\n",
       "      <th>31.0</th>\n",
       "      <th>32.0</th>\n",
       "      <th>33.0</th>\n",
       "    </tr>\n",
       "    <tr>\n",
       "      <th>split</th>\n",
       "      <th></th>\n",
       "      <th></th>\n",
       "      <th></th>\n",
       "      <th></th>\n",
       "      <th></th>\n",
       "      <th></th>\n",
       "      <th></th>\n",
       "      <th></th>\n",
       "      <th></th>\n",
       "      <th></th>\n",
       "      <th></th>\n",
       "      <th></th>\n",
       "      <th></th>\n",
       "      <th></th>\n",
       "      <th></th>\n",
       "      <th></th>\n",
       "      <th></th>\n",
       "      <th></th>\n",
       "      <th></th>\n",
       "    </tr>\n",
       "  </thead>\n",
       "  <tbody>\n",
       "    <tr>\n",
       "      <th>0</th>\n",
       "      <td>0.101664</td>\n",
       "      <td>0.102129</td>\n",
       "      <td>0.102129</td>\n",
       "      <td>0.127051</td>\n",
       "      <td>0.289950</td>\n",
       "      <td>0.318046</td>\n",
       "      <td>0.376368</td>\n",
       "      <td>0.391437</td>\n",
       "      <td>0.414414</td>\n",
       "      <td>0.642005</td>\n",
       "      <td>0.712186</td>\n",
       "      <td>0.759170</td>\n",
       "      <td>0.788929</td>\n",
       "      <td>0.790189</td>\n",
       "      <td>0.790853</td>\n",
       "      <td>0.759104</td>\n",
       "      <td>0.800065</td>\n",
       "      <td>0.869275</td>\n",
       "      <td>0.860593</td>\n",
       "    </tr>\n",
       "    <tr>\n",
       "      <th>1</th>\n",
       "      <td>0.101009</td>\n",
       "      <td>0.101009</td>\n",
       "      <td>0.101009</td>\n",
       "      <td>0.120365</td>\n",
       "      <td>0.330684</td>\n",
       "      <td>0.388922</td>\n",
       "      <td>0.404168</td>\n",
       "      <td>0.410661</td>\n",
       "      <td>0.452702</td>\n",
       "      <td>0.638327</td>\n",
       "      <td>0.757588</td>\n",
       "      <td>0.738819</td>\n",
       "      <td>0.736709</td>\n",
       "      <td>0.798288</td>\n",
       "      <td>0.821636</td>\n",
       "      <td>0.781306</td>\n",
       "      <td>0.815064</td>\n",
       "      <td>0.851109</td>\n",
       "      <td>0.851109</td>\n",
       "    </tr>\n",
       "    <tr>\n",
       "      <th>2</th>\n",
       "      <td>0.110277</td>\n",
       "      <td>0.123668</td>\n",
       "      <td>0.123668</td>\n",
       "      <td>0.223646</td>\n",
       "      <td>0.286837</td>\n",
       "      <td>0.302374</td>\n",
       "      <td>0.324577</td>\n",
       "      <td>0.371927</td>\n",
       "      <td>0.470678</td>\n",
       "      <td>0.554602</td>\n",
       "      <td>0.748958</td>\n",
       "      <td>0.771619</td>\n",
       "      <td>0.811980</td>\n",
       "      <td>0.809153</td>\n",
       "      <td>0.801599</td>\n",
       "      <td>0.790892</td>\n",
       "      <td>0.797951</td>\n",
       "      <td>0.797951</td>\n",
       "      <td>0.834546</td>\n",
       "    </tr>\n",
       "    <tr>\n",
       "      <th>3</th>\n",
       "      <td>0.061717</td>\n",
       "      <td>0.168085</td>\n",
       "      <td>0.176332</td>\n",
       "      <td>0.230813</td>\n",
       "      <td>0.315849</td>\n",
       "      <td>0.388079</td>\n",
       "      <td>0.426965</td>\n",
       "      <td>0.459117</td>\n",
       "      <td>0.471895</td>\n",
       "      <td>0.588239</td>\n",
       "      <td>0.671992</td>\n",
       "      <td>0.695215</td>\n",
       "      <td>0.763153</td>\n",
       "      <td>0.774555</td>\n",
       "      <td>0.794486</td>\n",
       "      <td>0.759805</td>\n",
       "      <td>0.759280</td>\n",
       "      <td>0.773171</td>\n",
       "      <td>0.859550</td>\n",
       "    </tr>\n",
       "    <tr>\n",
       "      <th>4</th>\n",
       "      <td>0.152520</td>\n",
       "      <td>0.152520</td>\n",
       "      <td>0.152520</td>\n",
       "      <td>0.168394</td>\n",
       "      <td>0.192480</td>\n",
       "      <td>0.350494</td>\n",
       "      <td>0.426593</td>\n",
       "      <td>0.472164</td>\n",
       "      <td>0.549988</td>\n",
       "      <td>0.570377</td>\n",
       "      <td>0.721708</td>\n",
       "      <td>0.774074</td>\n",
       "      <td>0.818288</td>\n",
       "      <td>0.817001</td>\n",
       "      <td>0.807597</td>\n",
       "      <td>0.784455</td>\n",
       "      <td>0.776444</td>\n",
       "      <td>0.921845</td>\n",
       "      <td>0.913441</td>\n",
       "    </tr>\n",
       "  </tbody>\n",
       "</table>\n",
       "</div>"
      ],
      "text/plain": [
       "partition      15.0      16.0      17.0      18.0      19.0      20.0  \\\n",
       "split                                                                   \n",
       "0          0.101664  0.102129  0.102129  0.127051  0.289950  0.318046   \n",
       "1          0.101009  0.101009  0.101009  0.120365  0.330684  0.388922   \n",
       "2          0.110277  0.123668  0.123668  0.223646  0.286837  0.302374   \n",
       "3          0.061717  0.168085  0.176332  0.230813  0.315849  0.388079   \n",
       "4          0.152520  0.152520  0.152520  0.168394  0.192480  0.350494   \n",
       "\n",
       "partition      21.0      22.0      23.0      24.0      25.0      26.0  \\\n",
       "split                                                                   \n",
       "0          0.376368  0.391437  0.414414  0.642005  0.712186  0.759170   \n",
       "1          0.404168  0.410661  0.452702  0.638327  0.757588  0.738819   \n",
       "2          0.324577  0.371927  0.470678  0.554602  0.748958  0.771619   \n",
       "3          0.426965  0.459117  0.471895  0.588239  0.671992  0.695215   \n",
       "4          0.426593  0.472164  0.549988  0.570377  0.721708  0.774074   \n",
       "\n",
       "partition      27.0      28.0      29.0      30.0      31.0      32.0  \\\n",
       "split                                                                   \n",
       "0          0.788929  0.790189  0.790853  0.759104  0.800065  0.869275   \n",
       "1          0.736709  0.798288  0.821636  0.781306  0.815064  0.851109   \n",
       "2          0.811980  0.809153  0.801599  0.790892  0.797951  0.797951   \n",
       "3          0.763153  0.774555  0.794486  0.759805  0.759280  0.773171   \n",
       "4          0.818288  0.817001  0.807597  0.784455  0.776444  0.921845   \n",
       "\n",
       "partition      33.0  \n",
       "split                \n",
       "0          0.860593  \n",
       "1          0.851109  \n",
       "2          0.834546  \n",
       "3          0.859550  \n",
       "4          0.913441  "
      ]
     },
     "execution_count": 25,
     "metadata": {},
     "output_type": "execute_result"
    }
   ],
   "source": [
    "rop_simulation.outputs.head()"
   ]
  },
  {
   "cell_type": "markdown",
   "metadata": {},
   "source": [
    "Taking the bin centered at 23.0 as an example we can plot the distribution of the probability of the outcome as follows and show the median, 2.5th and 97.5th percentiles which are the values shown for this partition in the plot above."
   ]
  },
  {
   "cell_type": "code",
   "execution_count": 26,
   "metadata": {},
   "outputs": [
    {
     "data": {
      "text/plain": [
       "<matplotlib.axes._subplots.AxesSubplot at 0x26ece9bd888>"
      ]
     },
     "execution_count": 26,
     "metadata": {},
     "output_type": "execute_result"
    },
    {
     "data": {
      "image/png": "[encoded data removed]",
      "text/plain": [
       "<Figure size 1152x576 with 1 Axes>"
      ]
     },
     "metadata": {
      "needs_background": "light"
     },
     "output_type": "display_data"
    }
   ],
   "source": [
    "sns.distplot(a=rop_simulation.outputs[23.0], rug=True)"
   ]
  },
  {
   "cell_type": "markdown",
   "metadata": {},
   "source": [
    "For this partition we could also see that for the first split the average predicted probability of the outcome was 0.41."
   ]
  },
  {
   "cell_type": "code",
   "execution_count": 27,
   "metadata": {},
   "outputs": [
    {
     "data": {
      "text/plain": [
       "0.41441401031476105"
      ]
     },
     "execution_count": 27,
     "metadata": {},
     "output_type": "execute_result"
    }
   ],
   "source": [
    "rop_simulation.outputs.loc[0, 23.0]"
   ]
  },
  {
   "cell_type": "markdown",
   "metadata": {},
   "source": [
    "To confirm our understanding of how the number was generated, we can take the test data and model from the first split generated as part of the bootstrap-crossfit and calculate it."
   ]
  },
  {
   "cell_type": "code",
   "execution_count": 28,
   "metadata": {},
   "outputs": [
    {
     "data": {
      "text/plain": [
       "0.41441401031476105"
      ]
     },
     "execution_count": 28,
     "metadata": {},
     "output_type": "execute_result"
    }
   ],
   "source": [
    "model_split_1 = next(boot_crossfit.models())\n",
    "(train_split_1, test_split_1) = next(boot_crossfit.splits())\n",
    "test_split_1_modified = drilling_obs.features.loc[test_split_1]\n",
    "test_split_1_modified[SIM_FEATURE] = 23.0\n",
    "model_split_1.predict_proba(X=test_split_1_modified)[1].mean()"
   ]
  },
  {
   "cell_type": "markdown",
   "metadata": {},
   "source": [
    "As expected this single value among the 1000 generated for this partition is the average predicted probability of the outcome in the first bootstrap test set using the selected model trained on the first bootstrap resample. "
   ]
  },
  {
   "cell_type": "markdown",
   "metadata": {},
   "source": [
    "# Summary\n",
    "\n",
    "**Partitioning**\n",
    "\n",
    "1. Select the right partitioner for your type of feature: categorical, integer or continuous.\n",
    "2. Note that feature partitions are derived from the full dataset and the tail values of the observations will be excluded for integer and float type features (unles. \n",
    "\n",
    "**Creating multiple train and test splits with bootstrap resampling**\n",
    "\n",
    "3. The bootstrap resampling produces *m* training sets of size *n* and *m* test sets on average of size 0.368*n*. On average a training set will contain 0.632*n* unique observations from the original data.\n",
    "4. The resampling creates train and test sets the are representative of the original data. \n",
    "\n",
    "**Model fitting using resampled training sets**\n",
    "\n",
    "5. The selected model is fit on each training set and so each split will generate a slightly different prediction for the same feature combination. \n",
    "\n",
    "**Simulating actuals**\n",
    "\n",
    "6. The spread and offset of the deviations between the average predicted value for the test set and the average of the target in the original dataset can serve as an indication of how the bias of the model may contribute to uncertainty in simulation.\n",
    "\n",
    "**Simulating response**\n",
    "\n",
    "7. The bootstrap average predictions for each partition yields a distribution of expected values for the target for that partition."
   ]
  },
  {
   "cell_type": "markdown",
   "metadata": {},
   "source": [
    "# What can you do next?\n",
    "\n",
    "1. Try out using a different feature for simulation\n",
    "2. Create a different feature type and try using a different partitioner\n",
    "3. Create a model for a dataset with a continuous target and try out the `UnivariateTargetSimulator` and the `UnivariateUpliftSimulator`."
   ]
  }
 ],
 "metadata": {
  "kernelspec": {
   "display_name": "Python 3",
   "language": "python",
   "name": "python3"
  },
  "language_info": {
   "codemirror_mode": {
    "name": "ipython",
    "version": 3
   },
   "file_extension": ".py",
   "mimetype": "text/x-python",
   "name": "python",
   "nbconvert_exporter": "python",
   "pygments_lexer": "ipython3",
   "version": "3.8.6"
  },
  "toc": {
   "base_numbering": 1,
   "nav_menu": {},
   "number_sections": false,
   "sideBar": true,
   "skip_h1_title": false,
   "title_cell": "Table of Contents",
   "title_sidebar": "Contents",
   "toc_cell": false,
   "toc_position": {},
   "toc_section_display": true,
   "toc_window_display": false
  }
 },
 "nbformat": 4,
 "nbformat_minor": 4
}
